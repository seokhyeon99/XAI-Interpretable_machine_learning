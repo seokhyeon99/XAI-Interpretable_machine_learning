{
 "cells": [
  {
   "cell_type": "markdown",
   "metadata": {},
   "source": [
    "# 2. Interpretability"
   ]
  },
  {
   "cell_type": "markdown",
   "metadata": {},
   "source": [
    "various definition of interpretability:  \n",
    "  1. the degree to which a human can understand the cause of a decision.  \n",
    "  2. the degree to which a human can consistently predict the model's result."
   ]
  },
  {
   "cell_type": "markdown",
   "metadata": {},
   "source": [
    "## 2.1 The Importance of Interpretability"
   ]
  },
  {
   "cell_type": "markdown",
   "metadata": {},
   "source": [
    "In predictive modelling, we have to make a trade-off:\n",
    "  - Do you simply want to know what is predicted, or why the prediction was made and possibly paying for the interpretability with a drop in accuracy?  \n",
    "It depends on what the situation is.  \n",
    "  \n",
    "People usually have a curiousness when they go thorough unexpected events. Closely related to learning is the human desire to find meaning in the world.  \n",
    "  \n",
    "Machine learning model itself becomes a source of knowledge, instead of the data. Interpretability allows to tap into this additional knowledge captured by the model.  \n",
    "By default most machine learning models pick up biases from the training data. Interpretability can be a iuseful debugging tool to detect the biases in the models.  \n",
    "The process of integrating machines and algorithms into our daily lives demands interpretability to increase social acceptance.(tbc)\n"
   ]
  },
  {
   "cell_type": "code",
   "execution_count": null,
   "metadata": {},
   "outputs": [],
   "source": []
  }
 ],
 "metadata": {
  "kernelspec": {
   "display_name": "Python 3",
   "language": "python",
   "name": "python3"
  },
  "language_info": {
   "codemirror_mode": {
    "name": "ipython",
    "version": 3
   },
   "file_extension": ".py",
   "mimetype": "text/x-python",
   "name": "python",
   "nbconvert_exporter": "python",
   "pygments_lexer": "ipython3",
   "version": "3.8.5"
  }
 },
 "nbformat": 4,
 "nbformat_minor": 4
}
