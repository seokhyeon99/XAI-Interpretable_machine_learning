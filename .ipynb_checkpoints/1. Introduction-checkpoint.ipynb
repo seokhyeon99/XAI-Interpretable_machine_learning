{
 "cells": [
  {
   "cell_type": "markdown",
   "metadata": {},
   "source": [
    "# 1. Introduction\n",
    "## What Is Machine Learning?\n",
    "- Machine learning is a method for teaching computers to make and improve predictions or behaviors based on data.\n",
    "- The book focuses on supervised machine learning, which includes all problems where we know the label or the outcome of interest and want to learn to predict.\n",
    "- The goal in supervised learning is to learn a predictive model that maps features to an output.\n",
    "- Machine learning tasks are different, but the approach is the same:\n",
    "   \tStep 1: Collect data. The more, the better.\n",
    "   \tStep 2: Feed this information into a machine learning algrotihm.\n",
    "       Step 3: Integrate the model into the product or process.\n",
    "    \n",
    "    \n",
    "    - Advantages: speed, reproducibility, and scale.\n",
    "    - Disadvantages: hidden insights within complex model.    "
   ]
  },
  {
   "cell_type": "markdown",
   "metadata": {},
   "source": [
    "## Definitions"
   ]
  },
  {
   "cell_type": "markdown",
   "metadata": {},
   "source": [
    "- Machine learning algorithm: a set of rules that a machine follows to achieve a particular goal.\n",
    "- Model: the outcome of a machine learning algorithm.\n",
    "- Features: The things that are used for prediction. A feature is one column in the dataset.\n",
    "- Target: The thing the machine learns to predict.\n",
    "- Task: The combination of a dataset with features and a target.\n",
    "- Prediction: The action that the machine learning model guesses what the target value should be based on given features\n",
    "- Instance: each datas that have features. A instance is a row in the dataset."
   ]
  }
 ],
 "metadata": {
  "kernelspec": {
   "display_name": "Python 3",
   "language": "python",
   "name": "python3"
  },
  "language_info": {
   "codemirror_mode": {
    "name": "ipython",
    "version": 3
   },
   "file_extension": ".py",
   "mimetype": "text/x-python",
   "name": "python",
   "nbconvert_exporter": "python",
   "pygments_lexer": "ipython3",
   "version": "3.8.5"
  }
 },
 "nbformat": 4,
 "nbformat_minor": 4
}
